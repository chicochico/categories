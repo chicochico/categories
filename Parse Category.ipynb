{
 "cells": [
  {
   "cell_type": "code",
   "execution_count": 7,
   "metadata": {},
   "outputs": [
    {
     "data": {
      "text/plain": [
       "['Home & Garden;Household Appliances;Laundry Appliances;Dryers',\n",
       " 'Sporting Goods;Outdoor Recreation;Golf;Golf Club Parts & Accessories;Golf Club Grips',\n",
       " 'Home & Garden;Kitchen & Dining;Kitchen Tools & Utensils;Food Graters & Zesters',\n",
       " 'Health & Beauty;Personal Care;Ear Care;Ear Drops',\n",
       " 'Food, Beverages & Tobacco;Food Items;Condiments & Sauces;Relish & Chutney',\n",
       " 'Arts & Entertainment;Hobbies & Creative Arts;Musical Instrument & Orchestra Accessories;String Instrument Accessories;Guitar Accessories;Guitar Humidifiers',\n",
       " 'Home & Garden;Kitchen & Dining;Prefabricated Kitchens & Kitchenettes',\n",
       " 'Hardware;Building Materials;Doors',\n",
       " 'Arts & Entertainment;Hobbies & Creative Arts;Musical Instrument & Orchestra Accessories;Woodwind Instrument Accessories;Woodwind Reed Knives',\n",
       " 'Business & Industrial;Mining & Quarrying']"
      ]
     },
     "execution_count": 7,
     "metadata": {},
     "output_type": "execute_result"
    }
   ],
   "source": [
    "categories = open('test_data_sample_1', 'r').read().splitlines()\n",
    "categories"
   ]
  },
  {
   "cell_type": "code",
   "execution_count": 8,
   "metadata": {},
   "outputs": [
    {
     "data": {
      "text/plain": [
       "[['Home & Garden', 'Household Appliances', 'Laundry Appliances', 'Dryers'],\n",
       " ['Sporting Goods',\n",
       "  'Outdoor Recreation',\n",
       "  'Golf',\n",
       "  'Golf Club Parts & Accessories',\n",
       "  'Golf Club Grips'],\n",
       " ['Home & Garden',\n",
       "  'Kitchen & Dining',\n",
       "  'Kitchen Tools & Utensils',\n",
       "  'Food Graters & Zesters'],\n",
       " ['Health & Beauty', 'Personal Care', 'Ear Care', 'Ear Drops'],\n",
       " ['Food, Beverages & Tobacco',\n",
       "  'Food Items',\n",
       "  'Condiments & Sauces',\n",
       "  'Relish & Chutney'],\n",
       " ['Arts & Entertainment',\n",
       "  'Hobbies & Creative Arts',\n",
       "  'Musical Instrument & Orchestra Accessories',\n",
       "  'String Instrument Accessories',\n",
       "  'Guitar Accessories',\n",
       "  'Guitar Humidifiers'],\n",
       " ['Home & Garden',\n",
       "  'Kitchen & Dining',\n",
       "  'Prefabricated Kitchens & Kitchenettes'],\n",
       " ['Hardware', 'Building Materials', 'Doors'],\n",
       " ['Arts & Entertainment',\n",
       "  'Hobbies & Creative Arts',\n",
       "  'Musical Instrument & Orchestra Accessories',\n",
       "  'Woodwind Instrument Accessories',\n",
       "  'Woodwind Reed Knives'],\n",
       " ['Business & Industrial', 'Mining & Quarrying']]"
      ]
     },
     "execution_count": 8,
     "metadata": {},
     "output_type": "execute_result"
    }
   ],
   "source": [
    "categories = [s.split(';') for s in categories]\n",
    "categories"
   ]
  }
 ],
 "metadata": {
  "kernelspec": {
   "display_name": "Python 3",
   "language": "python",
   "name": "python3"
  },
  "language_info": {
   "codemirror_mode": {
    "name": "ipython",
    "version": 3
   },
   "file_extension": ".py",
   "mimetype": "text/x-python",
   "name": "python",
   "nbconvert_exporter": "python",
   "pygments_lexer": "ipython3",
   "version": "3.6.1"
  }
 },
 "nbformat": 4,
 "nbformat_minor": 2
}
