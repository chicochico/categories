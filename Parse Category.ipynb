{
 "cells": [
  {
   "cell_type": "code",
   "execution_count": 4,
   "metadata": {},
   "outputs": [
    {
     "data": {
      "text/plain": [
       "['Sporting Goods;Outdoor Recreation;Cycling;Bicycle Accessories;Bicycle Tire Repair Supplies & Kits',\n",
       " 'Health & Beauty;Personal Care;Hair Care;Hair Styling Tools',\n",
       " 'Baby & Toddler;Baby Toys & Activity Equipment;Sorting & Stacking Toys',\n",
       " 'Food, Beverages & Tobacco;Food Items;Cooking & Baking Ingredients;Waffle & Pancake Mixes',\n",
       " 'Electronics;Communications;Intercom Accessories',\n",
       " 'Furniture;Futons',\n",
       " 'Arts & Entertainment;Hobbies & Creative Arts;Musical Instrument & Orchestra Accessories;Woodwind Instrument Accessories;Saxophone Accessories;Saxophone Reeds',\n",
       " 'Hardware;Fencing & Barriers;Fence Panels',\n",
       " 'Home & Garden;Household Supplies']"
      ]
     },
     "execution_count": 4,
     "metadata": {},
     "output_type": "execute_result"
    }
   ],
   "source": [
    "categories = open('test_data_sample_0', 'r').read().splitlines()\n",
    "categories"
   ]
  },
  {
   "cell_type": "code",
   "execution_count": 6,
   "metadata": {},
   "outputs": [
    {
     "data": {
      "text/plain": [
       "[['Sporting Goods',\n",
       "  'Outdoor Recreation',\n",
       "  'Cycling',\n",
       "  'Bicycle Accessories',\n",
       "  'Bicycle Tire Repair Supplies & Kits'],\n",
       " ['Health & Beauty', 'Personal Care', 'Hair Care', 'Hair Styling Tools'],\n",
       " ['Baby & Toddler',\n",
       "  'Baby Toys & Activity Equipment',\n",
       "  'Sorting & Stacking Toys'],\n",
       " ['Food, Beverages & Tobacco',\n",
       "  'Food Items',\n",
       "  'Cooking & Baking Ingredients',\n",
       "  'Waffle & Pancake Mixes'],\n",
       " ['Electronics', 'Communications', 'Intercom Accessories'],\n",
       " ['Furniture', 'Futons'],\n",
       " ['Arts & Entertainment',\n",
       "  'Hobbies & Creative Arts',\n",
       "  'Musical Instrument & Orchestra Accessories',\n",
       "  'Woodwind Instrument Accessories',\n",
       "  'Saxophone Accessories',\n",
       "  'Saxophone Reeds'],\n",
       " ['Hardware', 'Fencing & Barriers', 'Fence Panels'],\n",
       " ['Home & Garden', 'Household Supplies']]"
      ]
     },
     "execution_count": 6,
     "metadata": {},
     "output_type": "execute_result"
    }
   ],
   "source": [
    "categories = [s.split(';') for s in categories]\n",
    "categories"
   ]
  }
 ],
 "metadata": {
  "kernelspec": {
   "display_name": "Python 3",
   "language": "python",
   "name": "python3"
  },
  "language_info": {
   "codemirror_mode": {
    "name": "ipython",
    "version": 3
   },
   "file_extension": ".py",
   "mimetype": "text/x-python",
   "name": "python",
   "nbconvert_exporter": "python",
   "pygments_lexer": "ipython3",
   "version": "3.6.1"
  }
 },
 "nbformat": 4,
 "nbformat_minor": 2
}
