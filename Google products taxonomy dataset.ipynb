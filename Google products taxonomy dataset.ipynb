{
 "cells": [
  {
   "cell_type": "code",
   "execution_count": 78,
   "metadata": {
    "collapsed": true
   },
   "outputs": [],
   "source": [
    "f = open('./taxonomy-with-ids.en-US.txt')"
   ]
  },
  {
   "cell_type": "code",
   "execution_count": 79,
   "metadata": {},
   "outputs": [],
   "source": [
    "data = f.read().split('\\n')"
   ]
  },
  {
   "cell_type": "code",
   "execution_count": 80,
   "metadata": {},
   "outputs": [
    {
     "data": {
      "text/plain": [
       "['# Google_Product_Taxonomy_Version: 2015-02-19',\n",
       " '1 - Animals & Pet Supplies',\n",
       " '3237 - Animals & Pet Supplies > Live Animals',\n",
       " '2 - Animals & Pet Supplies > Pet Supplies',\n",
       " '3 - Animals & Pet Supplies > Pet Supplies > Bird Supplies',\n",
       " '7385 - Animals & Pet Supplies > Pet Supplies > Bird Supplies > Bird Cage Accessories',\n",
       " '499954 - Animals & Pet Supplies > Pet Supplies > Bird Supplies > Bird Cage Accessories > Bird Cage Bird Baths',\n",
       " '7386 - Animals & Pet Supplies > Pet Supplies > Bird Supplies > Bird Cage Accessories > Bird Cage Food & Water Dishes',\n",
       " '4989 - Animals & Pet Supplies > Pet Supplies > Bird Supplies > Bird Cages & Stands',\n",
       " '4990 - Animals & Pet Supplies > Pet Supplies > Bird Supplies > Bird Food']"
      ]
     },
     "execution_count": 80,
     "metadata": {},
     "output_type": "execute_result"
    }
   ],
   "source": [
    "data[:10]"
   ]
  },
  {
   "cell_type": "code",
   "execution_count": 81,
   "metadata": {},
   "outputs": [
    {
     "data": {
      "text/plain": [
       "['1 - Animals & Pet Supplies',\n",
       " '3237 - Animals & Pet Supplies > Live Animals',\n",
       " '2 - Animals & Pet Supplies > Pet Supplies',\n",
       " '3 - Animals & Pet Supplies > Pet Supplies > Bird Supplies',\n",
       " '7385 - Animals & Pet Supplies > Pet Supplies > Bird Supplies > Bird Cage Accessories',\n",
       " '499954 - Animals & Pet Supplies > Pet Supplies > Bird Supplies > Bird Cage Accessories > Bird Cage Bird Baths',\n",
       " '7386 - Animals & Pet Supplies > Pet Supplies > Bird Supplies > Bird Cage Accessories > Bird Cage Food & Water Dishes',\n",
       " '4989 - Animals & Pet Supplies > Pet Supplies > Bird Supplies > Bird Cages & Stands',\n",
       " '4990 - Animals & Pet Supplies > Pet Supplies > Bird Supplies > Bird Food',\n",
       " '7398 - Animals & Pet Supplies > Pet Supplies > Bird Supplies > Bird Gyms & Playstands']"
      ]
     },
     "execution_count": 81,
     "metadata": {},
     "output_type": "execute_result"
    }
   ],
   "source": [
    "data = data[1:]\n",
    "data[:10]"
   ]
  },
  {
   "cell_type": "code",
   "execution_count": 82,
   "metadata": {},
   "outputs": [
    {
     "data": {
      "text/plain": [
       "[['1', 'Animals & Pet Supplies'],\n",
       " ['3237', 'Animals & Pet Supplies > Live Animals'],\n",
       " ['2', 'Animals & Pet Supplies > Pet Supplies'],\n",
       " ['3', 'Animals & Pet Supplies > Pet Supplies > Bird Supplies'],\n",
       " ['7385',\n",
       "  'Animals & Pet Supplies > Pet Supplies > Bird Supplies > Bird Cage Accessories'],\n",
       " ['499954',\n",
       "  'Animals & Pet Supplies > Pet Supplies > Bird Supplies > Bird Cage Accessories > Bird Cage Bird Baths'],\n",
       " ['7386',\n",
       "  'Animals & Pet Supplies > Pet Supplies > Bird Supplies > Bird Cage Accessories > Bird Cage Food & Water Dishes'],\n",
       " ['4989',\n",
       "  'Animals & Pet Supplies > Pet Supplies > Bird Supplies > Bird Cages & Stands'],\n",
       " ['4990', 'Animals & Pet Supplies > Pet Supplies > Bird Supplies > Bird Food'],\n",
       " ['7398',\n",
       "  'Animals & Pet Supplies > Pet Supplies > Bird Supplies > Bird Gyms & Playstands']]"
      ]
     },
     "execution_count": 82,
     "metadata": {},
     "output_type": "execute_result"
    }
   ],
   "source": [
    "data[:] = [d.split(' - ') for d in data]\n",
    "data[:10]"
   ]
  },
  {
   "cell_type": "code",
   "execution_count": 83,
   "metadata": {},
   "outputs": [
    {
     "data": {
      "text/plain": [
       "[['1', 'Animals & Pet Supplies'],\n",
       " ['3237', 'Animals & Pet Supplies > Live Animals'],\n",
       " ['2', 'Animals & Pet Supplies > Pet Supplies'],\n",
       " ['3', 'Animals & Pet Supplies > Pet Supplies > Bird Supplies'],\n",
       " ['7385',\n",
       "  'Animals & Pet Supplies > Pet Supplies > Bird Supplies > Bird Cage Accessories'],\n",
       " ['499954',\n",
       "  'Animals & Pet Supplies > Pet Supplies > Bird Supplies > Bird Cage Accessories > Bird Cage Bird Baths'],\n",
       " ['7386',\n",
       "  'Animals & Pet Supplies > Pet Supplies > Bird Supplies > Bird Cage Accessories > Bird Cage Food & Water Dishes'],\n",
       " ['4989',\n",
       "  'Animals & Pet Supplies > Pet Supplies > Bird Supplies > Bird Cages & Stands'],\n",
       " ['4990', 'Animals & Pet Supplies > Pet Supplies > Bird Supplies > Bird Food'],\n",
       " ['7398',\n",
       "  'Animals & Pet Supplies > Pet Supplies > Bird Supplies > Bird Gyms & Playstands']]"
      ]
     },
     "execution_count": 83,
     "metadata": {},
     "output_type": "execute_result"
    }
   ],
   "source": [
    "data[:10]"
   ]
  },
  {
   "cell_type": "code",
   "execution_count": 84,
   "metadata": {},
   "outputs": [
    {
     "data": {
      "text/plain": [
       "['Animals & Pet Supplies',\n",
       " 'Animals & Pet Supplies > Live Animals',\n",
       " 'Animals & Pet Supplies > Pet Supplies',\n",
       " 'Animals & Pet Supplies > Pet Supplies > Bird Supplies',\n",
       " 'Animals & Pet Supplies > Pet Supplies > Bird Supplies > Bird Cage Accessories',\n",
       " 'Animals & Pet Supplies > Pet Supplies > Bird Supplies > Bird Cage Accessories > Bird Cage Bird Baths',\n",
       " 'Animals & Pet Supplies > Pet Supplies > Bird Supplies > Bird Cage Accessories > Bird Cage Food & Water Dishes',\n",
       " 'Animals & Pet Supplies > Pet Supplies > Bird Supplies > Bird Cages & Stands',\n",
       " 'Animals & Pet Supplies > Pet Supplies > Bird Supplies > Bird Food',\n",
       " 'Animals & Pet Supplies > Pet Supplies > Bird Supplies > Bird Gyms & Playstands']"
      ]
     },
     "execution_count": 84,
     "metadata": {},
     "output_type": "execute_result"
    }
   ],
   "source": [
    "data = [d[-1] for d in data]\n",
    "data[:10]"
   ]
  },
  {
   "cell_type": "code",
   "execution_count": 85,
   "metadata": {},
   "outputs": [
    {
     "data": {
      "text/plain": [
       "['Animals & Pet Supplies',\n",
       " 'Animals & Pet Supplies;Live Animals',\n",
       " 'Animals & Pet Supplies;Pet Supplies',\n",
       " 'Animals & Pet Supplies;Pet Supplies;Bird Supplies',\n",
       " 'Animals & Pet Supplies;Pet Supplies;Bird Supplies;Bird Cage Accessories',\n",
       " 'Animals & Pet Supplies;Pet Supplies;Bird Supplies;Bird Cage Accessories;Bird Cage Bird Baths',\n",
       " 'Animals & Pet Supplies;Pet Supplies;Bird Supplies;Bird Cage Accessories;Bird Cage Food & Water Dishes',\n",
       " 'Animals & Pet Supplies;Pet Supplies;Bird Supplies;Bird Cages & Stands',\n",
       " 'Animals & Pet Supplies;Pet Supplies;Bird Supplies;Bird Food',\n",
       " 'Animals & Pet Supplies;Pet Supplies;Bird Supplies;Bird Gyms & Playstands']"
      ]
     },
     "execution_count": 85,
     "metadata": {},
     "output_type": "execute_result"
    }
   ],
   "source": [
    "data[:] = [d.replace(' > ', ';') for d in data]\n",
    "data[:10]"
   ]
  },
  {
   "cell_type": "code",
   "execution_count": 86,
   "metadata": {},
   "outputs": [
    {
     "data": {
      "text/plain": [
       "['Animals & Pet Supplies\\n',\n",
       " 'Animals & Pet Supplies;Live Animals\\n',\n",
       " 'Animals & Pet Supplies;Pet Supplies\\n',\n",
       " 'Animals & Pet Supplies;Pet Supplies;Bird Supplies\\n',\n",
       " 'Animals & Pet Supplies;Pet Supplies;Bird Supplies;Bird Cage Accessories\\n',\n",
       " 'Animals & Pet Supplies;Pet Supplies;Bird Supplies;Bird Cage Accessories;Bird Cage Bird Baths\\n',\n",
       " 'Animals & Pet Supplies;Pet Supplies;Bird Supplies;Bird Cage Accessories;Bird Cage Food & Water Dishes\\n',\n",
       " 'Animals & Pet Supplies;Pet Supplies;Bird Supplies;Bird Cages & Stands\\n',\n",
       " 'Animals & Pet Supplies;Pet Supplies;Bird Supplies;Bird Food\\n',\n",
       " 'Animals & Pet Supplies;Pet Supplies;Bird Supplies;Bird Gyms & Playstands\\n']"
      ]
     },
     "execution_count": 86,
     "metadata": {},
     "output_type": "execute_result"
    }
   ],
   "source": [
    "data[:] = [d + '\\n' for d in data]\n",
    "data[:10]"
   ]
  },
  {
   "cell_type": "code",
   "execution_count": 87,
   "metadata": {
    "collapsed": true
   },
   "outputs": [],
   "source": [
    "save_file = open('./google_products_taxonomy_parsed.csv', 'w')"
   ]
  },
  {
   "cell_type": "code",
   "execution_count": 88,
   "metadata": {},
   "outputs": [],
   "source": [
    "save_file.writelines(data)"
   ]
  },
  {
   "cell_type": "code",
   "execution_count": 89,
   "metadata": {
    "collapsed": true
   },
   "outputs": [],
   "source": [
    "save_file.close()"
   ]
  },
  {
   "cell_type": "code",
   "execution_count": null,
   "metadata": {
    "collapsed": true
   },
   "outputs": [],
   "source": []
  }
 ],
 "metadata": {
  "kernelspec": {
   "display_name": "Python 3",
   "language": "python",
   "name": "python3"
  },
  "language_info": {
   "codemirror_mode": {
    "name": "ipython",
    "version": 3
   },
   "file_extension": ".py",
   "mimetype": "text/x-python",
   "name": "python",
   "nbconvert_exporter": "python",
   "pygments_lexer": "ipython3",
   "version": "3.6.1"
  }
 },
 "nbformat": 4,
 "nbformat_minor": 2
}
