{
 "cells": [
  {
   "cell_type": "code",
   "execution_count": 2,
   "metadata": {
    "collapsed": true
   },
   "outputs": [],
   "source": [
    "import random"
   ]
  },
  {
   "cell_type": "code",
   "execution_count": 3,
   "metadata": {
    "collapsed": true
   },
   "outputs": [],
   "source": [
    "data = open('google_products_taxonomy_parsed.csv', mode='r').read().splitlines(keepends=True)"
   ]
  },
  {
   "cell_type": "code",
   "execution_count": 7,
   "metadata": {},
   "outputs": [
    {
     "data": {
      "text/plain": [
       "['Office Supplies;Filing & Organization;Mail Sorters\\n',\n",
       " 'Furniture;Table Accessories\\n',\n",
       " 'Hardware;Plumbing;Plumbing Fixture Hardware & Parts;Shower Parts;Shower Water Filters\\n',\n",
       " 'Furniture;Chairs;Arm Chairs, Recliners & Sleeper Chairs\\n',\n",
       " 'Electronics;GPS Accessories;GPS Cases\\n',\n",
       " 'Food, Beverages & Tobacco;Food Items;Snack Foods;Puffed Rice Cakes\\n',\n",
       " 'Electronics;Audio;Audio Components;Audio Amplifiers;Headphone Amplifiers\\n',\n",
       " 'Home & Garden;Lighting;Floating & Submersible Lights\\n',\n",
       " 'Sporting Goods;Outdoor Recreation;Winter Sports & Activities;Skiing & Snowboarding;Ski & Snowboard Helmets\\n',\n",
       " 'Health & Beauty;Personal Care;Cosmetics;Cosmetic Tools;Nail Tools;Cuticle Pushers\\n']"
      ]
     },
     "execution_count": 7,
     "metadata": {},
     "output_type": "execute_result"
    }
   ],
   "source": [
    "random.sample(data, 10)"
   ]
  },
  {
   "cell_type": "code",
   "execution_count": 9,
   "metadata": {
    "collapsed": true
   },
   "outputs": [],
   "source": [
    "for i in range(11):\n",
    "    f = open('test_data_sample_{}.csv'.format(i), 'w')\n",
    "    f.writelines(random.sample(data, 10))"
   ]
  },
  {
   "cell_type": "code",
   "execution_count": 12,
   "metadata": {},
   "outputs": [],
   "source": [
    "# csv with different separator\n",
    "f = open('test_data_sample_commas.csv', 'w')\n",
    "lines = [s.replace(';', ',') for s in random.sample(data, 10)]\n",
    "f.writelines(lines)"
   ]
  },
  {
   "cell_type": "code",
   "execution_count": 19,
   "metadata": {
    "collapsed": true
   },
   "outputs": [],
   "source": [
    "f.writelines(lines)\n",
    "f.close()"
   ]
  }
 ],
 "metadata": {
  "kernelspec": {
   "display_name": "Python 3",
   "language": "python",
   "name": "python3"
  },
  "language_info": {
   "codemirror_mode": {
    "name": "ipython",
    "version": 3
   },
   "file_extension": ".py",
   "mimetype": "text/x-python",
   "name": "python",
   "nbconvert_exporter": "python",
   "pygments_lexer": "ipython3",
   "version": "3.6.1"
  }
 },
 "nbformat": 4,
 "nbformat_minor": 2
}
