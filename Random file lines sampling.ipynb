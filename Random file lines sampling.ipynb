{
 "cells": [
  {
   "cell_type": "code",
   "execution_count": 1,
   "metadata": {
    "collapsed": true
   },
   "outputs": [],
   "source": [
    "import random"
   ]
  },
  {
   "cell_type": "code",
   "execution_count": 15,
   "metadata": {
    "collapsed": true
   },
   "outputs": [],
   "source": [
    "data = open('google_products_taxonomy_parsed.csv', mode='r').read().splitlines(keepends=True)"
   ]
  },
  {
   "cell_type": "code",
   "execution_count": 16,
   "metadata": {},
   "outputs": [
    {
     "data": {
      "text/plain": [
       "['Toys & Games;Toys;Play Vehicles;Toy Motorcycles\\n',\n",
       " 'Apparel & Accessories;Handbags, Wallets & Cases;Business Card Cases\\n',\n",
       " 'Home & Garden;Household Supplies;Storage & Organization;Photo Storage\\n',\n",
       " 'Electronics;Electronics Accessories;Power;Travel Converters & Adapters\\n',\n",
       " 'Arts & Entertainment;Hobbies & Creative Arts;Collectibles;Collectible Weapons;Collectible Guns\\n',\n",
       " 'Sporting Goods;Athletics;Track & Field;Track Hurdles\\n',\n",
       " 'Electronics;Audio;Audio Components;Audio Mixers\\n',\n",
       " 'Vehicles & Parts;Vehicle Parts & Accessories;Vehicle Storage & Cargo;Motor Vehicle Trailers;Boat Trailers\\n',\n",
       " 'Home & Garden;Household Supplies;Household Cleaning Supplies;Household Cleaning Products;Toilet Bowl Cleaners\\n',\n",
       " 'Health & Beauty;Health Care;Biometric Monitor Accessories\\n']"
      ]
     },
     "execution_count": 16,
     "metadata": {},
     "output_type": "execute_result"
    }
   ],
   "source": [
    "random.sample(data, 10)"
   ]
  },
  {
   "cell_type": "code",
   "execution_count": 17,
   "metadata": {},
   "outputs": [],
   "source": [
    "for i in range(11):\n",
    "    f = open('test_data_sample_{}'.format(i), 'w')\n",
    "    f.writelines(random.sample(data, 10))"
   ]
  },
  {
   "cell_type": "code",
   "execution_count": null,
   "metadata": {
    "collapsed": true
   },
   "outputs": [],
   "source": [
    "# csv with different separator\n",
    "f = open('test_data_sample_commas.csv', 'w')\n",
    "lines = [s.replace(';', ',') for s in rango]"
   ]
  }
 ],
 "metadata": {
  "kernelspec": {
   "display_name": "Python 3",
   "language": "python",
   "name": "python3"
  },
  "language_info": {
   "codemirror_mode": {
    "name": "ipython",
    "version": 3
   },
   "file_extension": ".py",
   "mimetype": "text/x-python",
   "name": "python",
   "nbconvert_exporter": "python",
   "pygments_lexer": "ipython3",
   "version": "3.6.1"
  }
 },
 "nbformat": 4,
 "nbformat_minor": 2
}
